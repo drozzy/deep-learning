{
 "cells": [
  {
   "cell_type": "code",
   "execution_count": 238,
   "metadata": {},
   "outputs": [],
   "source": [
    "import numpy as np\n",
    "import math"
   ]
  },
  {
   "cell_type": "code",
   "execution_count": 239,
   "metadata": {},
   "outputs": [],
   "source": [
    "def to_patches(img, kernel_size):\n",
    "    patches = []\n",
    "    num_pad_left = int((kernel_size - 1) / 2)\n",
    "    num_pad_right = num_pad_left\n",
    "    \n",
    "    if kernel_size % 2 == 0:\n",
    "        num_pad_right += 1\n",
    "        \n",
    "    pad_left = np.zeros(num_pad_left)\n",
    "    pad_right = np.zeros(num_pad_right)\n",
    "    result = np.concatenate([pad_left, img, pad_right])\n",
    "\n",
    "    for i in range(result.shape[0] - kernel_size + 1):\n",
    "        patches.append(result[i: i + kernel_size])\n",
    "    \n",
    "    return np.array(patches)"
   ]
  },
  {
   "cell_type": "code",
   "execution_count": 240,
   "metadata": {},
   "outputs": [
    {
     "name": "stdout",
     "output_type": "stream",
     "text": [
      "(8,)\n",
      "[ 2.95  4.05  6.7   7.85 10.85 11.65  8.1   5.8 ]\n",
      "(8,)\n"
     ]
    }
   ],
   "source": [
    "img = np.array([1, 1, 5, 5, 8, 8, 10, 10])\n",
    "\n",
    "patches = to_patches(img, 5)\n",
    "print(img.shape)\n",
    "# print(patches)\n",
    "kernel = np.array([0.35, 0.1, 0.2, 0.25, 0.5])\n",
    "\n",
    "result = patches.dot(kernel)\n",
    "print(result)\n",
    "print(result.shape)"
   ]
  },
  {
   "cell_type": "code",
   "execution_count": null,
   "metadata": {},
   "outputs": [],
   "source": []
  }
 ],
 "metadata": {
  "kernelspec": {
   "display_name": "Python 3",
   "language": "python",
   "name": "python3"
  },
  "language_info": {
   "codemirror_mode": {
    "name": "ipython",
    "version": 3
   },
   "file_extension": ".py",
   "mimetype": "text/x-python",
   "name": "python",
   "nbconvert_exporter": "python",
   "pygments_lexer": "ipython3",
   "version": "3.7.3"
  }
 },
 "nbformat": 4,
 "nbformat_minor": 4
}
