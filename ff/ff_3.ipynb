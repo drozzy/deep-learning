{
 "cells": [
  {
   "cell_type": "code",
   "execution_count": 1,
   "metadata": {},
   "outputs": [],
   "source": [
    "import numpy as np"
   ]
  },
  {
   "cell_type": "code",
   "execution_count": 2,
   "metadata": {},
   "outputs": [],
   "source": [
    "x = np.random.rand(10)"
   ]
  },
  {
   "cell_type": "code",
   "execution_count": 3,
   "metadata": {},
   "outputs": [],
   "source": [
    "n_output = 2"
   ]
  },
  {
   "cell_type": "code",
   "execution_count": 4,
   "metadata": {},
   "outputs": [
    {
     "data": {
      "text/plain": [
       "array([0.62294096, 0.25759515, 0.10243237, 0.38599062, 0.2688156 ,\n",
       "       0.94119191, 0.59682842, 0.33307421, 0.55770885, 0.81527311])"
      ]
     },
     "execution_count": 4,
     "metadata": {},
     "output_type": "execute_result"
    }
   ],
   "source": [
    "x"
   ]
  },
  {
   "cell_type": "code",
   "execution_count": 5,
   "metadata": {},
   "outputs": [],
   "source": [
    "w = np.random.rand(x.shape[0], n_output)"
   ]
  },
  {
   "cell_type": "code",
   "execution_count": 6,
   "metadata": {},
   "outputs": [
    {
     "data": {
      "text/plain": [
       "array([[0.89939455, 0.12447209],\n",
       "       [0.53156566, 0.51102459],\n",
       "       [0.18864994, 0.26378664],\n",
       "       [0.21111234, 0.9244762 ],\n",
       "       [0.3074879 , 0.81250894],\n",
       "       [0.8934322 , 0.35066824],\n",
       "       [0.81159692, 0.27980429],\n",
       "       [0.14398965, 0.64370996],\n",
       "       [0.60308201, 0.33370867],\n",
       "       [0.71402743, 0.74287655]])"
      ]
     },
     "execution_count": 6,
     "metadata": {},
     "output_type": "execute_result"
    }
   ],
   "source": [
    "w"
   ]
  },
  {
   "cell_type": "code",
   "execution_count": 7,
   "metadata": {},
   "outputs": [],
   "source": [
    "b = np.random.rand(n_output)"
   ]
  },
  {
   "cell_type": "code",
   "execution_count": 8,
   "metadata": {},
   "outputs": [],
   "source": [
    "y = x @ w + b"
   ]
  },
  {
   "cell_type": "code",
   "execution_count": 9,
   "metadata": {},
   "outputs": [
    {
     "data": {
      "text/plain": [
       "array([3.67089177, 2.3702962 ])"
      ]
     },
     "execution_count": 9,
     "metadata": {},
     "output_type": "execute_result"
    }
   ],
   "source": [
    "y"
   ]
  },
  {
   "cell_type": "code",
   "execution_count": 10,
   "metadata": {},
   "outputs": [],
   "source": [
    "var = {\n",
    "    'x @ w + b' : []\n",
    "}"
   ]
  },
  {
   "cell_type": "code",
   "execution_count": 11,
   "metadata": {},
   "outputs": [],
   "source": [
    "class LinearFunction(object):\n",
    "    def __init__(self):\n",
    "        self.c = {}\n",
    "\n",
    "    def forward(self, x, w, b):\n",
    "        self.c['x'] = x\n",
    "        self.c['w'] = w\n",
    "        self.c['b'] = b\n",
    "        return x @ w + b\n",
    "    \n",
    "    def backward(self, dy):        \n",
    "        return self.c['w'] @ dy, np.expand_dims(self.c['x'], 1) @ np.expand_dims(dy, 0), dy*1"
   ]
  },
  {
   "cell_type": "code",
   "execution_count": 12,
   "metadata": {},
   "outputs": [],
   "source": [
    "class SigmoidFunction(object):\n",
    "    def __init__(self):\n",
    "        self.c = {}\n",
    "        \n",
    "    def forward(self, x):\n",
    "        self.c['x'] = x\n",
    "        return self.sigmoid(x)\n",
    "    \n",
    "    def sigmoid(self, x):\n",
    "        return 1/(1 + np.exp(-x)) \n",
    "    \n",
    "    def backward(self, dy):\n",
    "        return dy * (self.sigmoid(self.c['x']) * (1 - self.sigmoid(self.c['x'])))"
   ]
  },
  {
   "cell_type": "code",
   "execution_count": 13,
   "metadata": {},
   "outputs": [
    {
     "data": {
      "text/plain": [
       "array([3.67089177, 2.3702962 ])"
      ]
     },
     "execution_count": 13,
     "metadata": {},
     "output_type": "execute_result"
    }
   ],
   "source": [
    "f = LinearFunction()\n",
    "out1 = f.forward(x, w, b)\n",
    "out1"
   ]
  },
  {
   "cell_type": "code",
   "execution_count": 14,
   "metadata": {},
   "outputs": [
    {
     "data": {
      "text/plain": [
       "array([0.97517805, 0.91453401])"
      ]
     },
     "execution_count": 14,
     "metadata": {},
     "output_type": "execute_result"
    }
   ],
   "source": [
    "s = SigmoidFunction()\n",
    "out2 = s.forward(out1)\n",
    "out2"
   ]
  },
  {
   "cell_type": "code",
   "execution_count": 15,
   "metadata": {},
   "outputs": [],
   "source": [
    "d_out1 = s.backward(dy=1)"
   ]
  },
  {
   "cell_type": "code",
   "execution_count": 16,
   "metadata": {},
   "outputs": [],
   "source": [
    "dx, dw, db = f.backward(dy=d_out1)"
   ]
  },
  {
   "cell_type": "code",
   "execution_count": 17,
   "metadata": {},
   "outputs": [
    {
     "data": {
      "text/plain": [
       "array([0.97517805, 0.91453401])"
      ]
     },
     "execution_count": 17,
     "metadata": {},
     "output_type": "execute_result"
    }
   ],
   "source": [
    "out2"
   ]
  },
  {
   "cell_type": "code",
   "execution_count": 18,
   "metadata": {},
   "outputs": [],
   "source": [
    "target = np.array([0.5, 0.1])"
   ]
  },
  {
   "cell_type": "code",
   "execution_count": 30,
   "metadata": {},
   "outputs": [],
   "source": [
    "\n",
    "class Network(object):\n",
    "    def __init__(self, input_size, output_size):\n",
    "        self.f = LinearFunction()\n",
    "        self.s = SigmoidFunction()\n",
    "        \n",
    "        self.w = np.random.normal(loc=1, scale=1, size=(input_size, output_size))\n",
    "        self.b = np.zeros(output_size)\n",
    "    \n",
    "    def forward(self, x):\n",
    "        y1 = self.f.forward(x, self.w, self.b)\n",
    "        y2 = self.s.forward(y1)\n",
    "        return y2\n",
    "\n",
    "    def backward(self, grad):\n",
    "        dy2_dy1 = self.s.backward(dy=grad)\n",
    "        return f.backward(dy=dy2_dy1)\n",
    "\n",
    "class LossL1Function(object):\n",
    "    def __init__(self):\n",
    "        self.c = {}\n",
    "        \n",
    "    def forward(self, y, y_target):\n",
    "        self.c['y'] = y\n",
    "        self.c['y_target'] = y_target\n",
    "        d = y_target - y\n",
    "        self.c['d'] = d\n",
    "        return np.mean(np.abs(d))\n",
    "    \n",
    "    def backward(self):\n",
    "        weight = 1 / self.c['d'].shape[0]\n",
    "        dl_dd = weight * ((self.c['d'] > 0) * 1.0 + (self.c['d'] < 0) * -1.0)\n",
    "        dd_dy = dl_dd * -1\n",
    "        \n",
    "        return dd_dy\n",
    "    \n",
    "def step(n, loss_object, x, y_target, lr=0.01):\n",
    "    y = n.forward(x)\n",
    "    \n",
    "    loss = loss_object.forward(y, y_target)\n",
    "    dl_dy = loss_object.backward()\n",
    "    \n",
    "    _, dw, db = n.backward(grad=dl_dy)\n",
    "    \n",
    "    n.w = n.w - dw * lr\n",
    "    n.b = n.b - db * lr\n",
    "    return y, loss"
   ]
  },
  {
   "cell_type": "code",
   "execution_count": 31,
   "metadata": {},
   "outputs": [
    {
     "name": "stdout",
     "output_type": "stream",
     "text": [
      "[0.42201339 0.10540927]\n",
      "[0.50238675 0.10024339]\n",
      "[0.50238968 0.10014018]\n",
      "[0.50239263 0.10003724]\n",
      "[0.5023956  0.09993435]\n",
      "[0.50239858 0.0998316 ]\n",
      "[0.50240158 0.0997291 ]\n",
      "[0.50240459 0.09962686]\n",
      "[0.50240763 0.09952487]\n",
      "[0.50241067 0.10038343]\n",
      "[0.50241374 0.10027988]\n",
      "[0.50237916 0.10017377]\n",
      "[0.5023821 0.1000728]\n",
      "[0.50238505 0.09997201]\n",
      "[0.50238801 0.09987123]\n",
      "[0.50239099 0.0997707 ]\n",
      "[0.50239399 0.09967041]\n",
      "[0.50239701 0.09957036]\n",
      "[0.50240004 0.10042201]\n",
      "[0.50240309 0.10032044]\n",
      "[0.50240615 0.10021912]\n",
      "[0.50237157 0.10011521]\n",
      "[0.50237451 0.10001643]\n",
      "[0.50237746 0.09991765]\n",
      "[0.50238042 0.09981904]\n",
      "[0.5023834  0.09972067]\n",
      "[0.5023864  0.09962254]\n",
      "[0.50238941 0.10046737]\n",
      "[0.50239244 0.10036775]\n",
      "[0.50239548 0.10026837]\n",
      "[0.50239854 0.10016923]\n",
      "[0.50236396 0.10006746]\n",
      "[0.5023669  0.09997073]\n",
      "[0.50236984 0.09987403]\n",
      "[0.5023728  0.09977755]\n",
      "[0.50237578 0.09968129]\n",
      "[0.50237877 0.09958526]\n",
      "[0.50238178 0.10042167]\n",
      "[0.50238481 0.1003242 ]\n",
      "[0.50238784 0.10022696]\n",
      "[0.5023909  0.10012994]\n",
      "[0.50235632 0.10003027]\n",
      "[0.50235924 0.09993552]\n",
      "[0.50236219 0.0998409 ]\n",
      "[0.50236514 0.0997465 ]\n",
      "[0.50236811 0.09965231]\n",
      "[0.5023711  0.09955833]\n",
      "[0.5023741 0.1003865]\n",
      "[0.50237712 0.10029112]\n",
      "[0.50238015 0.10019597]\n",
      "[0.5023832  0.10010103]\n",
      "[0.50234861 0.10000341]\n",
      "[0.50235153 0.09991063]\n",
      "[0.50235447 0.09981805]\n",
      "[0.50235742 0.09972567]\n",
      "[0.50236038 0.0996335 ]\n",
      "[0.50236336 0.10045514]\n",
      "[0.50236635 0.10036161]\n",
      "[0.50236936 0.10026829]\n",
      "[0.50237239 0.10017517]\n",
      "[0.50237543 0.10008226]\n",
      "[0.50234083 0.09998661]\n",
      "[0.50234374 0.09989582]\n",
      "[0.50234667 0.09980522]\n",
      "[0.50234961 0.09971483]\n",
      "[0.50235256 0.09962463]\n",
      "[0.50235553 0.1004383 ]\n",
      "[0.50235851 0.10034678]\n",
      "[0.50236151 0.10025546]\n",
      "[0.50236452 0.10016434]\n",
      "[0.50236755 0.10007342]\n",
      "[0.50233294 0.0999797 ]\n",
      "[0.50233585 0.09989087]\n",
      "[0.50233876 0.09980222]\n",
      "[0.50234169 0.09971376]\n",
      "[0.50234463 0.0996255 ]\n",
      "[0.50234759 0.10043133]\n",
      "[0.50235056 0.10034178]\n",
      "[0.50235355 0.10025242]\n",
      "[0.50235655 0.10016325]\n",
      "[0.50235956 0.10007428]\n",
      "[0.50232494 0.09998248]\n",
      "[0.50232783 0.09989556]\n",
      "[0.50233073 0.09980882]\n",
      "[0.50233365 0.09972226]\n",
      "[0.50233658 0.09963588]\n",
      "[0.50233952 0.10043402]\n",
      "[0.50234248 0.1003464 ]\n",
      "[0.50234545 0.10025896]\n",
      "[0.50234843 0.1001717 ]\n",
      "[0.50235143 0.10008463]\n",
      "[0.50231679 0.09999474]\n",
      "[0.50231967 0.09990969]\n",
      "[0.50232256 0.09982482]\n",
      "[0.50232546 0.09974012]\n",
      "[0.50232837 0.09965559]\n",
      "[0.50233129 0.09957124]\n",
      "[0.50233423 0.10036043]\n",
      "[0.50233719 0.10027487]\n",
      "[0.50234016 0.10018948]\n"
     ]
    }
   ],
   "source": [
    "def train():\n",
    "    n = Network(input_size=10, output_size=2)\n",
    "    loss = LossL1Function()\n",
    "    \n",
    "    x = np.random.randn(10, )\n",
    "    target = np.array([0.5, 0.1])\n",
    "    lr = 0.1\n",
    "    for i in range(10000):\n",
    "        out, lss = step(n, loss, x, target, lr=lr)\n",
    "        if i % 100 == 0:\n",
    "            print(out)\n",
    "            \n",
    "        if i % 1000 == 0:\n",
    "            lr = lr - 0.001\n",
    "\n",
    "train()"
   ]
  },
  {
   "cell_type": "code",
   "execution_count": null,
   "metadata": {},
   "outputs": [],
   "source": []
  }
 ],
 "metadata": {
  "kernelspec": {
   "display_name": "Python 3",
   "language": "python",
   "name": "python3"
  },
  "language_info": {
   "codemirror_mode": {
    "name": "ipython",
    "version": 3
   },
   "file_extension": ".py",
   "mimetype": "text/x-python",
   "name": "python",
   "nbconvert_exporter": "python",
   "pygments_lexer": "ipython3",
   "version": "3.7.6"
  }
 },
 "nbformat": 4,
 "nbformat_minor": 4
}
