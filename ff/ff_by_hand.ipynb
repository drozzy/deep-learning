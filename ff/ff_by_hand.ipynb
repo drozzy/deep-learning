{
 "cells": [
  {
   "cell_type": "code",
   "execution_count": 1,
   "metadata": {},
   "outputs": [],
   "source": [
    "import numpy as np"
   ]
  },
  {
   "cell_type": "code",
   "execution_count": 2,
   "metadata": {},
   "outputs": [],
   "source": [
    "x = np.random.rand(10)"
   ]
  },
  {
   "cell_type": "code",
   "execution_count": 3,
   "metadata": {},
   "outputs": [],
   "source": [
    "n_output = 2"
   ]
  },
  {
   "cell_type": "code",
   "execution_count": 4,
   "metadata": {},
   "outputs": [
    {
     "data": {
      "text/plain": [
       "array([0.98595218, 0.82077203, 0.94843808, 0.19541009, 0.64266266,\n",
       "       0.60735443, 0.66697532, 0.63058731, 0.39327905, 0.76840853])"
      ]
     },
     "execution_count": 4,
     "metadata": {},
     "output_type": "execute_result"
    }
   ],
   "source": [
    "x"
   ]
  },
  {
   "cell_type": "code",
   "execution_count": 5,
   "metadata": {},
   "outputs": [],
   "source": [
    "w = np.random.rand(x.shape[0], n_output)"
   ]
  },
  {
   "cell_type": "code",
   "execution_count": 6,
   "metadata": {},
   "outputs": [
    {
     "data": {
      "text/plain": [
       "array([[0.11414765, 0.50679107],\n",
       "       [0.94431806, 0.66475222],\n",
       "       [0.06927808, 0.90356025],\n",
       "       [0.7687316 , 0.35793945],\n",
       "       [0.94722731, 0.11883859],\n",
       "       [0.0441511 , 0.56223291],\n",
       "       [0.37764124, 0.30053133],\n",
       "       [0.08177501, 0.91693764],\n",
       "       [0.43644913, 0.87653653],\n",
       "       [0.62347735, 0.72032927]])"
      ]
     },
     "execution_count": 6,
     "metadata": {},
     "output_type": "execute_result"
    }
   ],
   "source": [
    "w"
   ]
  },
  {
   "cell_type": "code",
   "execution_count": 7,
   "metadata": {},
   "outputs": [],
   "source": [
    "b = np.random.rand(n_output)"
   ]
  },
  {
   "cell_type": "code",
   "execution_count": 8,
   "metadata": {},
   "outputs": [],
   "source": [
    "y = x @ w + b"
   ]
  },
  {
   "cell_type": "code",
   "execution_count": 9,
   "metadata": {},
   "outputs": [
    {
     "data": {
      "text/plain": [
       "array([3.30379119, 4.40446916])"
      ]
     },
     "execution_count": 9,
     "metadata": {},
     "output_type": "execute_result"
    }
   ],
   "source": [
    "y"
   ]
  },
  {
   "cell_type": "code",
   "execution_count": 10,
   "metadata": {},
   "outputs": [],
   "source": [
    "def forward(x, w, b):\n",
    "    return x @ w + b"
   ]
  },
  {
   "cell_type": "code",
   "execution_count": 11,
   "metadata": {},
   "outputs": [],
   "source": [
    "def backward(dy, x, w, b):    \n",
    "    return w @ dy, np.expand_dims(x, 1) @ np.expand_dims(dy, 0), dy*1"
   ]
  },
  {
   "cell_type": "code",
   "execution_count": 12,
   "metadata": {},
   "outputs": [],
   "source": [
    "def forward_sigmoid(x):\n",
    "    return 1/(1 + np.exp(-x)) "
   ]
  },
  {
   "cell_type": "code",
   "execution_count": 13,
   "metadata": {},
   "outputs": [],
   "source": [
    "def backward_sigmoid(dy, x):\n",
    "    return dy * (forward_sigmoid(x) * (1 - forward_sigmoid(x)))"
   ]
  },
  {
   "cell_type": "code",
   "execution_count": 14,
   "metadata": {},
   "outputs": [
    {
     "data": {
      "text/plain": [
       "array([3.30379119, 4.40446916])"
      ]
     },
     "execution_count": 14,
     "metadata": {},
     "output_type": "execute_result"
    }
   ],
   "source": [
    "out1 = forward(x, w, b)\n",
    "out1"
   ]
  },
  {
   "cell_type": "code",
   "execution_count": 15,
   "metadata": {},
   "outputs": [
    {
     "data": {
      "text/plain": [
       "array([0.96455864, 0.98792499])"
      ]
     },
     "execution_count": 15,
     "metadata": {},
     "output_type": "execute_result"
    }
   ],
   "source": [
    "out2 = forward_sigmoid(out1)\n",
    "out2"
   ]
  },
  {
   "cell_type": "code",
   "execution_count": 16,
   "metadata": {},
   "outputs": [],
   "source": [
    "d_out1 = backward_sigmoid(dy=1, x=out1)"
   ]
  },
  {
   "cell_type": "code",
   "execution_count": 17,
   "metadata": {},
   "outputs": [],
   "source": [
    "dx, dw, db = backward(dy=d_out1, x=x, w=w, b=b)"
   ]
  },
  {
   "cell_type": "code",
   "execution_count": 18,
   "metadata": {},
   "outputs": [
    {
     "data": {
      "text/plain": [
       "array([0.96455864, 0.98792499])"
      ]
     },
     "execution_count": 18,
     "metadata": {},
     "output_type": "execute_result"
    }
   ],
   "source": [
    "out2"
   ]
  },
  {
   "cell_type": "code",
   "execution_count": 19,
   "metadata": {},
   "outputs": [],
   "source": [
    "target = np.array([0.5, 0.1])"
   ]
  },
  {
   "cell_type": "code",
   "execution_count": 58,
   "metadata": {},
   "outputs": [],
   "source": [
    "def step(x, w, b, y_target, lr=0.01):\n",
    "    y1 = forward(x, w, b)    \n",
    "    y2 = forward_sigmoid(y1)\n",
    "    \n",
    "    \n",
    "    w = y_target - y2\n",
    "    loss = np.mean(np.abs(w))\n",
    "    \n",
    "    dl_dw = 0.5*((w > 0) * 1.0 + (w < 0) * -1.0)\n",
    "    dw_dy2 = dl_dw * -1\n",
    "    \n",
    "    dy2_dy1 = backward_sigmoid(dy=dw_dy2, x=y1)\n",
    "    dy1_dx, dy1_dw, dy1_db = backward(dy=dy2_dy1, x=x, w=w, b=b)\n",
    "    \n",
    "    w = w - dy1_dw * lr\n",
    "    b = b - dy1_db * lr\n",
    "    return w, b, y2, loss"
   ]
  },
  {
   "cell_type": "code",
   "execution_count": 65,
   "metadata": {},
   "outputs": [
    {
     "name": "stdout",
     "output_type": "stream",
     "text": [
      "[0.00714781 0.00645259]\n",
      "[0.49663611 0.27158541]\n",
      "[0.4969813  0.13273347]\n",
      "[0.49733009 0.1025944 ]\n",
      "[0.49768232 0.1019929 ]\n",
      "[0.49803778 0.10141158]\n",
      "[0.49839631 0.10084966]\n",
      "[0.49875769 0.1003064 ]\n",
      "[0.49912173 0.09747969]\n",
      "[0.49948821 0.10011015]\n",
      "[0.49985693 0.0973624 ]\n",
      "[0.51396828 0.09770588]\n",
      "[0.51398585 0.1002739 ]\n",
      "[0.51400337 0.09762247]\n",
      "[0.51402075 0.10013777]\n",
      "[0.51403787 0.09756112]\n",
      "[0.51405461 0.10002435]\n",
      "[0.51407089 0.10035505]\n",
      "[0.51408658 0.09787163]\n",
      "[0.51410158 0.10027295]\n",
      "[0.51411578 0.09786094]\n",
      "[0.51412909 0.10021111]\n",
      "[0.5141414  0.09786909]\n",
      "[0.5141526  0.10016845]\n",
      "[0.51416261 0.09789517]\n",
      "[0.51417131 0.10014398]\n",
      "[0.51417863 0.09793831]\n",
      "[0.51418447 0.10013674]\n",
      "[0.51418873 0.09799762]\n",
      "[0.49689656 0.10014579]\n",
      "[0.49708757 0.09807225]\n",
      "[0.49727813 0.1001702 ]\n",
      "[0.49746817 0.09816138]\n",
      "[0.49765764 0.10020905]\n",
      "[0.49784646 0.09826415]\n",
      "[0.49803457 0.10026146]\n",
      "[0.49822192 0.09999706]\n",
      "[0.49840845 0.09816466]\n",
      "[0.4985941  0.10007671]\n",
      "[0.49877881 0.09829712]\n",
      "[0.49896254 0.10015847]\n",
      "[0.49914524 0.09844028]\n",
      "[0.49932686 0.10025061]\n",
      "[0.49950735 0.10003708]\n",
      "[0.49968668 0.09841716]\n",
      "[0.49986481 0.10014241]\n",
      "[0.5084266  0.09858249]\n",
      "[0.5083347  0.09843449]\n",
      "[0.50824175 0.10007497]\n",
      "[0.50814776 0.09861018]\n",
      "[0.50805274 0.10019818]\n",
      "[0.50795669 0.10003585]\n",
      "[0.50785964 0.09866445]\n",
      "[0.50776158 0.10016676]\n",
      "[0.50766254 0.10002168]\n",
      "[0.50756252 0.09874214]\n",
      "[0.50746154 0.10015824]\n",
      "[0.50735962 0.10002924]\n",
      "[0.50725677 0.09884019]\n",
      "[0.50715301 0.10016939]\n",
      "[0.50704836 0.10005536]\n",
      "[0.50694283 0.09895558]\n",
      "[0.50683646 0.09888715]\n",
      "[0.50672925 0.10009677]\n",
      "[0.50662123 0.10000122]\n",
      "[0.50651242 0.09902061]\n",
      "[0.50640285 0.10014128]\n",
      "[0.50629253 0.10005811]\n",
      "[0.50618149 0.09916423]\n",
      "[0.50606975 0.09912422]\n",
      "[0.50595733 0.10012288]\n",
      "[0.498779  0.1000547]\n",
      "[0.49890541 0.0992763 ]\n",
      "[0.49903156 0.09925001]\n",
      "[0.49915745 0.09922691]\n",
      "[0.49928309 0.10006973]\n",
      "[0.49940847 0.10001761]\n",
      "[0.49953361 0.09938155]\n",
      "[0.4996585  0.09936984]\n",
      "[0.49978315 0.10008653]\n",
      "[0.49990757 0.10004501]\n",
      "[0.50299049 0.10000588]\n",
      "[0.50286996 0.09950919]\n",
      "[0.50274927 0.09950913]\n",
      "[0.50262844 0.10006459]\n",
      "[0.50250748 0.10003365]\n",
      "[0.5023864  0.10000448]\n",
      "[0.50226522 0.09964442]\n",
      "[0.50214394 0.09965305]\n",
      "[0.50202258 0.10004401]\n",
      "[0.50190114 0.10002063]\n",
      "[0.50177963 0.09976787]\n",
      "[0.49970986 0.09978133]\n",
      "[0.49983171 0.0997957 ]\n",
      "[0.49995353 0.10001883]\n",
      "[0.50085425 0.09999998]\n",
      "[0.50073251 0.09988815]\n",
      "[0.4998802 0.100009 ]\n",
      "[0.50031354 0.0999401 ]\n",
      "[0.50019178 0.10000111]\n"
     ]
    }
   ],
   "source": [
    "def train():\n",
    "    x = np.random.randn(10, )\n",
    "    w = np.random.normal(loc=1, scale=1, size=(x.shape[0], n_output)) #np.random.randn(x.shape[0], n_output)\n",
    "    b = np.zeros(n_output)\n",
    "    target = np.array([0.5, 0.1])\n",
    "    lr = 0.1\n",
    "    for i in range(10000):\n",
    "        \n",
    "        w, b, out, lss = step(x, w, b, target, lr=lr)\n",
    "        if i % 100 == 0:\n",
    "            print(out)\n",
    "            lr = lr - 0.001\n",
    "\n",
    "train()"
   ]
  },
  {
   "cell_type": "code",
   "execution_count": null,
   "metadata": {},
   "outputs": [],
   "source": []
  }
 ],
 "metadata": {
  "kernelspec": {
   "display_name": "Python 3",
   "language": "python",
   "name": "python3"
  },
  "language_info": {
   "codemirror_mode": {
    "name": "ipython",
    "version": 3
   },
   "file_extension": ".py",
   "mimetype": "text/x-python",
   "name": "python",
   "nbconvert_exporter": "python",
   "pygments_lexer": "ipython3",
   "version": "3.7.6"
  }
 },
 "nbformat": 4,
 "nbformat_minor": 4
}
