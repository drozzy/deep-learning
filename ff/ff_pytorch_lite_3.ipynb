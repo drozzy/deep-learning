{
 "cells": [
  {
   "cell_type": "code",
   "execution_count": 1,
   "metadata": {},
   "outputs": [],
   "source": [
    "import numpy as np"
   ]
  },
  {
   "cell_type": "code",
   "execution_count": 2,
   "metadata": {},
   "outputs": [],
   "source": [
    "x = np.random.rand(10)"
   ]
  },
  {
   "cell_type": "code",
   "execution_count": 3,
   "metadata": {},
   "outputs": [],
   "source": [
    "n_output = 2"
   ]
  },
  {
   "cell_type": "code",
   "execution_count": 4,
   "metadata": {},
   "outputs": [
    {
     "data": {
      "text/plain": [
       "array([0.46231763, 0.5744329 , 0.96603109, 0.26641787, 0.01928115,\n",
       "       0.96659413, 0.68905617, 0.93951571, 0.72285003, 0.39574619])"
      ]
     },
     "execution_count": 4,
     "metadata": {},
     "output_type": "execute_result"
    }
   ],
   "source": [
    "x"
   ]
  },
  {
   "cell_type": "code",
   "execution_count": 5,
   "metadata": {},
   "outputs": [],
   "source": [
    "w = np.random.rand(x.shape[0], n_output)"
   ]
  },
  {
   "cell_type": "code",
   "execution_count": 6,
   "metadata": {},
   "outputs": [
    {
     "data": {
      "text/plain": [
       "array([[0.41250582, 0.6025827 ],\n",
       "       [0.03171325, 0.46517902],\n",
       "       [0.98455096, 0.91351597],\n",
       "       [0.49692695, 0.97482237],\n",
       "       [0.11811645, 0.07744363],\n",
       "       [0.80665282, 0.94443973],\n",
       "       [0.16871911, 0.33852279],\n",
       "       [0.08820113, 0.44921711],\n",
       "       [0.60072112, 0.90086319],\n",
       "       [0.1957843 , 0.58554952]])"
      ]
     },
     "execution_count": 6,
     "metadata": {},
     "output_type": "execute_result"
    }
   ],
   "source": [
    "w"
   ]
  },
  {
   "cell_type": "code",
   "execution_count": 7,
   "metadata": {},
   "outputs": [],
   "source": [
    "b = np.random.rand(n_output)"
   ]
  },
  {
   "cell_type": "code",
   "execution_count": 8,
   "metadata": {},
   "outputs": [],
   "source": [
    "y = x @ w + b"
   ]
  },
  {
   "cell_type": "code",
   "execution_count": 9,
   "metadata": {},
   "outputs": [
    {
     "data": {
      "text/plain": [
       "array([3.71730549, 4.33030509])"
      ]
     },
     "execution_count": 9,
     "metadata": {},
     "output_type": "execute_result"
    }
   ],
   "source": [
    "y"
   ]
  },
  {
   "cell_type": "code",
   "execution_count": 10,
   "metadata": {},
   "outputs": [],
   "source": [
    "var = {\n",
    "    'x @ w + b' : []\n",
    "}"
   ]
  },
  {
   "cell_type": "code",
   "execution_count": 11,
   "metadata": {},
   "outputs": [],
   "source": [
    "class LinearFunction(object):\n",
    "    def __init__(self):\n",
    "        self.c = {}\n",
    "\n",
    "    def forward(self, x, w, b):\n",
    "        self.c['x'] = x\n",
    "        self.c['w'] = w\n",
    "        self.c['b'] = b\n",
    "        return x @ w + b\n",
    "    \n",
    "    def backward(self, dy):        \n",
    "        return self.c['w'] @ dy, np.expand_dims(self.c['x'], 1) @ np.expand_dims(dy, 0), dy*1"
   ]
  },
  {
   "cell_type": "code",
   "execution_count": 12,
   "metadata": {},
   "outputs": [],
   "source": [
    "class SigmoidFunction(object):\n",
    "    def __init__(self):\n",
    "        self.c = {}\n",
    "        \n",
    "    def forward(self, x):\n",
    "        self.c['x'] = x\n",
    "        return self.sigmoid(x)\n",
    "    \n",
    "    def sigmoid(self, x):\n",
    "        return 1/(1 + np.exp(-x)) \n",
    "    \n",
    "    def backward(self, dy):\n",
    "        return dy * (self.sigmoid(self.c['x']) * (1 - self.sigmoid(self.c['x'])))"
   ]
  },
  {
   "cell_type": "code",
   "execution_count": 13,
   "metadata": {},
   "outputs": [
    {
     "data": {
      "text/plain": [
       "array([3.71730549, 4.33030509])"
      ]
     },
     "execution_count": 13,
     "metadata": {},
     "output_type": "execute_result"
    }
   ],
   "source": [
    "f = LinearFunction()\n",
    "out1 = f.forward(x, w, b)\n",
    "out1"
   ]
  },
  {
   "cell_type": "code",
   "execution_count": 14,
   "metadata": {},
   "outputs": [
    {
     "data": {
      "text/plain": [
       "array([0.9762771, 0.9870075])"
      ]
     },
     "execution_count": 14,
     "metadata": {},
     "output_type": "execute_result"
    }
   ],
   "source": [
    "s = SigmoidFunction()\n",
    "out2 = s.forward(out1)\n",
    "out2"
   ]
  },
  {
   "cell_type": "code",
   "execution_count": 15,
   "metadata": {},
   "outputs": [],
   "source": [
    "d_out1 = s.backward(dy=1)"
   ]
  },
  {
   "cell_type": "code",
   "execution_count": 16,
   "metadata": {},
   "outputs": [],
   "source": [
    "dx, dw, db = f.backward(dy=d_out1)"
   ]
  },
  {
   "cell_type": "code",
   "execution_count": 17,
   "metadata": {},
   "outputs": [
    {
     "data": {
      "text/plain": [
       "array([0.9762771, 0.9870075])"
      ]
     },
     "execution_count": 17,
     "metadata": {},
     "output_type": "execute_result"
    }
   ],
   "source": [
    "out2"
   ]
  },
  {
   "cell_type": "code",
   "execution_count": 18,
   "metadata": {},
   "outputs": [],
   "source": [
    "target = np.array([0.5, 0.1])"
   ]
  },
  {
   "cell_type": "code",
   "execution_count": 19,
   "metadata": {},
   "outputs": [],
   "source": [
    "class Network(object):\n",
    "    def __init__(self, input_size, output_size):\n",
    "        self.f = LinearFunction()\n",
    "        self.s = SigmoidFunction()\n",
    "        w = np.random.normal(loc=1, scale=1, size=(input_size, output_size))\n",
    "        b = np.zeros(output_size)\n",
    "        self.params = {'w': w, 'b': b}\n",
    "    \n",
    "    def forward(self, x):\n",
    "        y1 = self.f.forward(x, self.params['w'], self.params['b'])\n",
    "        y2 = self.s.forward(y1)\n",
    "        return y2\n",
    "\n",
    "    def backward(self, grad):\n",
    "        dy2_dy1 = self.s.backward(dy=grad)\n",
    "        return f.backward(dy=dy2_dy1)\n",
    "\n",
    "class LossL1Function(object):\n",
    "    def __init__(self):\n",
    "        self.c = {}\n",
    "        \n",
    "    def forward(self, y, y_target):\n",
    "        self.c['y'] = y\n",
    "        self.c['y_target'] = y_target\n",
    "        d = y_target - y\n",
    "        self.c['d'] = d\n",
    "        return np.mean(np.abs(d))\n",
    "    \n",
    "    def backward(self):\n",
    "        weight = 1 / self.c['d'].shape[0]\n",
    "        dl_dd = weight * ((self.c['d'] > 0) * 1.0 + (self.c['d'] < 0) * -1.0)\n",
    "        dd_dy = dl_dd * -1\n",
    "        \n",
    "        return dd_dy\n",
    "\n",
    "class GDOptimizer(object):    \n",
    "    def __init__(self, params):\n",
    "        self.params = params\n",
    "    \n",
    "    def step(self, dw, db, lr):\n",
    "        self.params['w'] = self.params['w'] - dw * lr\n",
    "        self.params['b'] = self.params['b'] - db * lr\n",
    "        \n",
    "def step(n, loss_object, optim, x, y_target, lr):\n",
    "    y = n.forward(x)\n",
    "    \n",
    "    loss = loss_object.forward(y, y_target)\n",
    "    dl_dy = loss_object.backward()\n",
    "    \n",
    "    _, dw, db = n.backward(grad=dl_dy)\n",
    "    \n",
    "    optim.step(dw, db, lr)\n",
    "    return y, loss"
   ]
  },
  {
   "cell_type": "code",
   "execution_count": 20,
   "metadata": {},
   "outputs": [
    {
     "name": "stdout",
     "output_type": "stream",
     "text": [
      "[0.99767089 0.8386201 ]\n",
      "[0.99762965 0.55072435]\n",
      "[0.99758693 0.19542187]\n",
      "[0.99754265 0.09960471]\n",
      "[0.99749672 0.09944205]\n",
      "[0.99744904 0.10049287]\n",
      "[0.99739952 0.10032732]\n",
      "[0.99734804 0.10016243]\n",
      "[0.99729448 0.09999819]\n",
      "[0.99723873 0.09983397]\n",
      "[0.99718064 0.09967039]\n",
      "[0.99712067 0.09951679]\n",
      "[0.99705811 0.10056015]\n",
      "[0.99699279 0.10039766]\n",
      "[0.99692451 0.1002358 ]\n",
      "[0.99685306 0.10007457]\n",
      "[0.99677823 0.09991364]\n",
      "[0.99669976 0.09975305]\n",
      "[0.99661739 0.09959307]\n",
      "[0.99653082 0.09943371]\n",
      "[0.99643972 0.10047529]\n",
      "[0.99634472 0.10031021]\n",
      "[0.99624454 0.10015196]\n",
      "[0.99613874 0.0999943 ]\n",
      "[0.99602682 0.09983665]\n",
      "[0.99590826 0.0996796 ]\n",
      "[0.99578244 0.09952315]\n",
      "[0.99564867 0.10055754]\n",
      "[0.99550617 0.10039835]\n",
      "[0.99535408 0.10023976]\n",
      "[0.99519138 0.10008178]\n",
      "[0.99501878 0.09992117]\n",
      "[0.99483342 0.09976703]\n",
      "[0.99463381 0.09961346]\n",
      "[0.99441826 0.09946046]\n",
      "[0.99418477 0.10048437]\n",
      "[0.99393103 0.1003287 ]\n",
      "[0.9936543  0.10017362]\n",
      "[0.9933513  0.10001912]\n",
      "[0.99301816 0.09986469]\n",
      "[0.99265014 0.09971076]\n",
      "[0.99224595 0.09956663]\n",
      "[0.99179518 0.1005836 ]\n",
      "[0.99128931 0.10043079]\n",
      "[0.99071762 0.10027854]\n",
      "[0.99006649 0.10012685]\n",
      "[0.98931828 0.09997562]\n",
      "[0.98844974 0.09982447]\n",
      "[0.9874296  0.09967387]\n",
      "[0.98621485 0.09952382]\n",
      "[0.98474471 0.10053989]\n",
      "[0.98295149 0.10038422]\n",
      "[0.9806915  0.10023532]\n",
      "[0.97775883 0.10008695]\n",
      "[0.97380881 0.09993889]\n",
      "[0.96821965 0.09979103]\n",
      "[0.95975418 0.0996437 ]\n",
      "[0.94559314 0.0994969 ]\n",
      "[0.91791039 0.10050319]\n",
      "[0.84761139 0.10035386]\n",
      "[0.60380554 0.10020507]\n",
      "[0.50120473 0.10005376]\n",
      "[0.50119694 0.09990883]\n",
      "[0.5011891  0.09976421]\n",
      "[0.5011812  0.09962009]\n",
      "[0.50117323 0.09947647]\n",
      "[0.5011652  0.10047311]\n",
      "[0.50115711 0.10032704]\n",
      "[0.50114896 0.10018148]\n",
      "[0.50114074 0.10003643]\n",
      "[0.50113246 0.09989149]\n",
      "[0.50107673 0.09975609]\n",
      "[0.50106832 0.09961508]\n",
      "[0.50105985 0.09947455]\n",
      "[0.50105131 0.10046188]\n",
      "[0.5010427  0.10031896]\n",
      "[0.50103403 0.10017653]\n",
      "[0.5010253  0.10003459]\n",
      "[0.50101649 0.09989276]\n",
      "[0.50100762 0.09975128]\n",
      "[0.50099868 0.09961029]\n",
      "[0.50094232 0.09947886]\n",
      "[0.50093326 0.10045697]\n",
      "[0.50092414 0.10031715]\n",
      "[0.50091495 0.1001778 ]\n",
      "[0.50090569 0.10003892]\n",
      "[0.50089636 0.09990016]\n",
      "[0.50088697 0.09976171]\n",
      "[0.5008775  0.09962373]\n",
      "[0.50086796 0.0994862 ]\n",
      "[0.50085835 0.10046446]\n",
      "[0.50080133 0.10032146]\n",
      "[0.50079162 0.10018514]\n",
      "[0.50078183 0.10004926]\n",
      "[0.50077198 0.09991353]\n",
      "[0.50076205 0.09977806]\n",
      "[0.50075205 0.09964304]\n",
      "[0.50074198 0.09950846]\n",
      "[0.50073184 0.10047783]\n",
      "[0.50072162 0.10034099]\n"
     ]
    }
   ],
   "source": [
    "def train():\n",
    "    n = Network(input_size=10, output_size=2)\n",
    "    loss = LossL1Function()\n",
    "    optim = GDOptimizer(params=n.params)\n",
    "    \n",
    "    x = np.random.randn(10, )\n",
    "    target = np.array([0.5, 0.1])\n",
    "    lr = 0.1\n",
    "    for i in range(10000):\n",
    "        out, lss = step(n, loss, optim, x, target, lr=lr)\n",
    "        if i % 100 == 0:\n",
    "            print(out)\n",
    "            \n",
    "        if i % 1000 == 0:\n",
    "            lr = lr - 0.001\n",
    "\n",
    "train()"
   ]
  },
  {
   "cell_type": "code",
   "execution_count": null,
   "metadata": {},
   "outputs": [],
   "source": []
  }
 ],
 "metadata": {
  "kernelspec": {
   "display_name": "Python 3",
   "language": "python",
   "name": "python3"
  },
  "language_info": {
   "codemirror_mode": {
    "name": "ipython",
    "version": 3
   },
   "file_extension": ".py",
   "mimetype": "text/x-python",
   "name": "python",
   "nbconvert_exporter": "python",
   "pygments_lexer": "ipython3",
   "version": "3.7.6"
  }
 },
 "nbformat": 4,
 "nbformat_minor": 4
}
