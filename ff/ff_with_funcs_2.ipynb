{
 "cells": [
  {
   "cell_type": "code",
   "execution_count": 123,
   "metadata": {},
   "outputs": [],
   "source": [
    "import numpy as np"
   ]
  },
  {
   "cell_type": "code",
   "execution_count": 124,
   "metadata": {},
   "outputs": [],
   "source": [
    "x = np.random.rand(10)"
   ]
  },
  {
   "cell_type": "code",
   "execution_count": 125,
   "metadata": {},
   "outputs": [],
   "source": [
    "n_output = 2"
   ]
  },
  {
   "cell_type": "code",
   "execution_count": 126,
   "metadata": {},
   "outputs": [
    {
     "data": {
      "text/plain": [
       "array([0.39817966, 0.96731862, 0.34765035, 0.80118311, 0.9225874 ,\n",
       "       0.24613924, 0.62362715, 0.77450788, 0.57295663, 0.29503775])"
      ]
     },
     "execution_count": 126,
     "metadata": {},
     "output_type": "execute_result"
    }
   ],
   "source": [
    "x"
   ]
  },
  {
   "cell_type": "code",
   "execution_count": 127,
   "metadata": {},
   "outputs": [],
   "source": [
    "w = np.random.rand(x.shape[0], n_output)"
   ]
  },
  {
   "cell_type": "code",
   "execution_count": 128,
   "metadata": {},
   "outputs": [
    {
     "data": {
      "text/plain": [
       "array([[0.2217311 , 0.30185864],\n",
       "       [0.71382226, 0.73878082],\n",
       "       [0.64756463, 0.09654663],\n",
       "       [0.74250479, 0.72942769],\n",
       "       [0.68812371, 0.79230672],\n",
       "       [0.93218787, 0.19546195],\n",
       "       [0.39042237, 0.65062857],\n",
       "       [0.67040109, 0.51221764],\n",
       "       [0.30281206, 0.86936902],\n",
       "       [0.6052326 , 0.65916643]])"
      ]
     },
     "execution_count": 128,
     "metadata": {},
     "output_type": "execute_result"
    }
   ],
   "source": [
    "w"
   ]
  },
  {
   "cell_type": "code",
   "execution_count": 129,
   "metadata": {},
   "outputs": [],
   "source": [
    "b = np.random.rand(n_output)"
   ]
  },
  {
   "cell_type": "code",
   "execution_count": 130,
   "metadata": {},
   "outputs": [],
   "source": [
    "y = x @ w + b"
   ]
  },
  {
   "cell_type": "code",
   "execution_count": 131,
   "metadata": {},
   "outputs": [
    {
     "data": {
      "text/plain": [
       "array([4.55315612, 4.28232724])"
      ]
     },
     "execution_count": 131,
     "metadata": {},
     "output_type": "execute_result"
    }
   ],
   "source": [
    "y"
   ]
  },
  {
   "cell_type": "code",
   "execution_count": 132,
   "metadata": {},
   "outputs": [],
   "source": [
    "var = {\n",
    "    'x @ w + b' : []\n",
    "}"
   ]
  },
  {
   "cell_type": "code",
   "execution_count": 133,
   "metadata": {},
   "outputs": [],
   "source": [
    "class LinearFunction(object):\n",
    "    def __init__(self):\n",
    "        self.c = {}\n",
    "\n",
    "    def forward(self, x, w, b):\n",
    "        self.c['x'] = x\n",
    "        self.c['w'] = w\n",
    "        self.c['b'] = b\n",
    "        return x @ w + b\n",
    "    \n",
    "    def backward(self, dy):        \n",
    "        return self.c['w'] @ dy, np.expand_dims(self.c['x'], 1) @ np.expand_dims(dy, 0), dy*1"
   ]
  },
  {
   "cell_type": "code",
   "execution_count": 134,
   "metadata": {},
   "outputs": [],
   "source": [
    "class SigmoidFunction(object):\n",
    "    def __init__(self):\n",
    "        self.c = {}\n",
    "        \n",
    "    def forward(self, x):\n",
    "        self.c['x'] = x\n",
    "        return self.sigmoid(x)\n",
    "    \n",
    "    def sigmoid(self, x):\n",
    "        return 1/(1 + np.exp(-x)) \n",
    "    \n",
    "    def backward(self, dy):\n",
    "        return dy * (self.sigmoid(self.c['x']) * (1 - self.sigmoid(self.c['x'])))"
   ]
  },
  {
   "cell_type": "code",
   "execution_count": 135,
   "metadata": {},
   "outputs": [
    {
     "data": {
      "text/plain": [
       "array([4.55315612, 4.28232724])"
      ]
     },
     "execution_count": 135,
     "metadata": {},
     "output_type": "execute_result"
    }
   ],
   "source": [
    "f = LinearFunction()\n",
    "out1 = f.forward(x, w, b)\n",
    "out1"
   ]
  },
  {
   "cell_type": "code",
   "execution_count": 136,
   "metadata": {},
   "outputs": [
    {
     "data": {
      "text/plain": [
       "array([0.9895759 , 0.98637765])"
      ]
     },
     "execution_count": 136,
     "metadata": {},
     "output_type": "execute_result"
    }
   ],
   "source": [
    "s = SigmoidFunction()\n",
    "out2 = s.forward(out1)\n",
    "out2"
   ]
  },
  {
   "cell_type": "code",
   "execution_count": 137,
   "metadata": {},
   "outputs": [],
   "source": [
    "d_out1 = s.backward(dy=1)"
   ]
  },
  {
   "cell_type": "code",
   "execution_count": 138,
   "metadata": {},
   "outputs": [],
   "source": [
    "dx, dw, db = f.backward(dy=d_out1)"
   ]
  },
  {
   "cell_type": "code",
   "execution_count": 139,
   "metadata": {},
   "outputs": [
    {
     "data": {
      "text/plain": [
       "array([0.9895759 , 0.98637765])"
      ]
     },
     "execution_count": 139,
     "metadata": {},
     "output_type": "execute_result"
    }
   ],
   "source": [
    "out2"
   ]
  },
  {
   "cell_type": "code",
   "execution_count": 140,
   "metadata": {},
   "outputs": [],
   "source": [
    "target = np.array([0.5, 0.1])"
   ]
  },
  {
   "cell_type": "code",
   "execution_count": 141,
   "metadata": {},
   "outputs": [],
   "source": [
    "def step(x, w, b, y_target, lr=0.01):\n",
    "    f = LinearFunction()\n",
    "    s = SigmoidFunction()\n",
    "    \n",
    "    y1 = f.forward(x, w, b)\n",
    "    y2 = s.forward(y1)\n",
    "    \n",
    "    w = y_target - y2\n",
    "    loss = np.mean(np.abs(w))\n",
    "    \n",
    "    dl_dw = 0.5*((w > 0) * 1.0 + (w < 0) * -1.0)\n",
    "    dw_dy2 = dl_dw * -1\n",
    "    \n",
    "    dy2_dy1 = s.backward(dy=dw_dy2)\n",
    "    dy1_dx, dy1_dw, dy1_db = f.backward(dy=dy2_dy1)\n",
    "    \n",
    "    w = w - dy1_dw * lr\n",
    "    b = b - dy1_db * lr\n",
    "    return w, b, y2, loss"
   ]
  },
  {
   "cell_type": "code",
   "execution_count": 142,
   "metadata": {},
   "outputs": [
    {
     "name": "stdout",
     "output_type": "stream",
     "text": [
      "[0.66545025 0.95298605]\n",
      "[0.47213026 0.24969714]\n",
      "[0.47200921 0.13342619]\n",
      "[0.47187333 0.1057443 ]\n",
      "[0.47172253 0.10446275]\n",
      "[0.47155678 0.10324186]\n",
      "[0.47137609 0.10207789]\n",
      "[0.47118049 0.10096742]\n",
      "[0.47097008 0.09465783]\n",
      "[0.47074499 0.09452385]\n",
      "[0.4705054  0.10030873]\n",
      "[0.47025154 0.10011613]\n",
      "[0.46998368 0.09490215]\n",
      "[0.46970214 0.09481111]\n",
      "[0.46940729 0.09473077]\n",
      "[0.46909953 0.10024925]\n",
      "[0.46877932 0.10011398]\n",
      "[0.46844716 0.0999898 ]\n",
      "[0.46810358 0.09518383]\n",
      "[0.46774918 0.09515199]\n",
      "[0.46738457 0.09512941]\n",
      "[0.46701041 0.10069692]\n",
      "[0.46662739 0.1002602 ]\n",
      "[0.46623624 0.10019542]\n",
      "[0.46583771 0.10013988]\n",
      "[0.502194   0.10009332]\n",
      "[0.50139654 0.10005549]\n",
      "[0.5005935  0.10002616]\n",
      "[0.46996763 0.10000509]\n",
      "[0.46974094 0.09999207]\n",
      "[0.46951264 0.09999565]\n",
      "[0.46928336 0.10000678]\n",
      "[0.50234609 0.10001639]\n",
      "[0.50170256 0.10003309]\n",
      "[0.50105868 0.10005663]\n",
      "[0.50041503 0.10008684]\n",
      "[0.4732546  0.10012351]\n",
      "[0.47316915 0.10016642]\n",
      "[0.47308613 0.10021538]\n",
      "[0.47300597 0.09620527]\n",
      "[0.47292907 0.09632577]\n",
      "[0.50177684 0.09645137]\n",
      "[0.50126771 0.09658205]\n",
      "[0.5007615  0.10003737]\n",
      "[0.50025855 0.10011711]\n",
      "[0.47696336 0.10020141]\n",
      "[0.47699932 0.09667646]\n",
      "[0.47703942 0.09682819]\n",
      "[0.47708385 0.10001957]\n",
      "[0.47713279 0.1001188 ]\n",
      "[0.50169721 0.09687222]\n",
      "[0.50129601 0.09703717]\n",
      "[0.50089846 0.10001304]\n",
      "[0.5005047  0.10012373]\n",
      "[0.50011487 0.097148  ]\n",
      "[0.48105413 0.09732281]\n",
      "[0.48118465 0.10008239]\n",
      "[0.48131915 0.09731049]\n",
      "[0.48145767 0.09749037]\n",
      "[0.48160024 0.10008216]\n",
      "[0.50135587 0.09751069]\n",
      "[0.50103189 0.09769378]\n",
      "[0.50071098 0.10011671]\n",
      "[0.50039316 0.09774292]\n",
      "[0.50007845 0.10004811]\n",
      "[0.4852269  0.09780903]\n",
      "[0.4854186  0.09799905]\n",
      "[0.48561316 0.10012651]\n",
      "[0.48581052 0.09808141]\n",
      "[0.48601063 0.10009603]\n",
      "[0.50092033 0.09818249]\n",
      "[0.50064206 0.1000775 ]\n",
      "[0.50036579 0.09829439]\n",
      "[0.50009146 0.10006899]\n",
      "[0.48901028 0.09841532]\n",
      "[0.4892339  0.10006861]\n",
      "[0.4894592 0.0985435]\n",
      "[0.48968611 0.10007446]\n",
      "[0.50069979 0.09867712]\n",
      "[0.50044204 0.10008464]\n",
      "[0.50018538 0.10000188]\n",
      "[0.49202781 0.0987967 ]\n",
      "[0.49226491 0.10001492]\n",
      "[0.49250291 0.09893564]\n",
      "[0.50058559 0.10002751]\n",
      "[0.50033591 0.09907352]\n",
      "[0.5000868  0.10003773]\n",
      "[0.49443029 0.09920845]\n",
      "[0.49467286 0.10004367]\n",
      "[0.50030851 0.09933852]\n",
      "[0.50006194 0.09936058]\n",
      "[0.49607127 0.09946176]\n",
      "[0.50023753 0.09948818]\n",
      "[0.49707948 0.09957625]\n",
      "[0.49732427 0.10001651]\n",
      "[0.50002039 0.09968005]\n",
      "[0.50007182 0.09974658]\n",
      "[0.50004914 0.10001098]\n",
      "[0.49912016 0.09987351]\n",
      "[0.50000384 0.10000198]\n"
     ]
    }
   ],
   "source": [
    "def train():\n",
    "    n_output = 2\n",
    "    x = np.random.randn(10, )\n",
    "    w = np.random.normal(loc=1, scale=1, size=(x.shape[0], n_output)) #np.random.randn(x.shape[0], n_output)\n",
    "    b = np.zeros(n_output)\n",
    "    target = np.array([0.5, 0.1])\n",
    "    lr = 0.1\n",
    "    for i in range(10000):\n",
    "        \n",
    "        w, b, out, lss = step(x, w, b, target, lr=lr)\n",
    "        if i % 100 == 0:\n",
    "            print(out)\n",
    "            lr = lr - 0.001\n",
    "\n",
    "train()"
   ]
  },
  {
   "cell_type": "code",
   "execution_count": null,
   "metadata": {},
   "outputs": [],
   "source": []
  }
 ],
 "metadata": {
  "kernelspec": {
   "display_name": "Python 3",
   "language": "python",
   "name": "python3"
  },
  "language_info": {
   "codemirror_mode": {
    "name": "ipython",
    "version": 3
   },
   "file_extension": ".py",
   "mimetype": "text/x-python",
   "name": "python",
   "nbconvert_exporter": "python",
   "pygments_lexer": "ipython3",
   "version": "3.7.6"
  }
 },
 "nbformat": 4,
 "nbformat_minor": 4
}
