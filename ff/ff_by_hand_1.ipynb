{
 "cells": [
  {
   "cell_type": "code",
   "execution_count": 1,
   "metadata": {},
   "outputs": [],
   "source": [
    "import numpy as np"
   ]
  },
  {
   "cell_type": "code",
   "execution_count": 2,
   "metadata": {},
   "outputs": [],
   "source": [
    "x = np.random.rand(10)"
   ]
  },
  {
   "cell_type": "code",
   "execution_count": 3,
   "metadata": {},
   "outputs": [],
   "source": [
    "n_output = 2"
   ]
  },
  {
   "cell_type": "code",
   "execution_count": 4,
   "metadata": {},
   "outputs": [
    {
     "data": {
      "text/plain": [
       "array([0.68029396, 0.32840694, 0.50191594, 0.63963333, 0.78756669,\n",
       "       0.67858827, 0.38287083, 0.84975711, 0.96254636, 0.09100671])"
      ]
     },
     "execution_count": 4,
     "metadata": {},
     "output_type": "execute_result"
    }
   ],
   "source": [
    "x"
   ]
  },
  {
   "cell_type": "code",
   "execution_count": 5,
   "metadata": {},
   "outputs": [],
   "source": [
    "w = np.random.rand(x.shape[0], n_output)"
   ]
  },
  {
   "cell_type": "code",
   "execution_count": 6,
   "metadata": {},
   "outputs": [
    {
     "data": {
      "text/plain": [
       "array([[0.19244329, 0.73747582],\n",
       "       [0.21330963, 0.13864845],\n",
       "       [0.53277022, 0.36644369],\n",
       "       [0.50962357, 0.35139524],\n",
       "       [0.86735692, 0.37366167],\n",
       "       [0.25783492, 0.71356104],\n",
       "       [0.29722212, 0.88140445],\n",
       "       [0.34894402, 0.66695864],\n",
       "       [0.84775568, 0.75580885],\n",
       "       [0.16904583, 0.98275015]])"
      ]
     },
     "execution_count": 6,
     "metadata": {},
     "output_type": "execute_result"
    }
   ],
   "source": [
    "w"
   ]
  },
  {
   "cell_type": "code",
   "execution_count": 7,
   "metadata": {},
   "outputs": [],
   "source": [
    "b = np.random.rand(n_output)"
   ]
  },
  {
   "cell_type": "code",
   "execution_count": 8,
   "metadata": {},
   "outputs": [],
   "source": [
    "y = x @ w + b"
   ]
  },
  {
   "cell_type": "code",
   "execution_count": 9,
   "metadata": {},
   "outputs": [
    {
     "data": {
      "text/plain": [
       "array([3.39971275, 3.92239271])"
      ]
     },
     "execution_count": 9,
     "metadata": {},
     "output_type": "execute_result"
    }
   ],
   "source": [
    "y"
   ]
  },
  {
   "cell_type": "code",
   "execution_count": 10,
   "metadata": {},
   "outputs": [],
   "source": [
    "def forward(x, w, b):\n",
    "    return x @ w + b"
   ]
  },
  {
   "cell_type": "code",
   "execution_count": 11,
   "metadata": {},
   "outputs": [],
   "source": [
    "def backward(dy, x, w, b):    \n",
    "    return w @ dy, np.expand_dims(x, 1) @ np.expand_dims(dy, 0), dy*1"
   ]
  },
  {
   "cell_type": "code",
   "execution_count": 12,
   "metadata": {},
   "outputs": [],
   "source": [
    "def forward_sigmoid(x):\n",
    "    return 1/(1 + np.exp(-x)) "
   ]
  },
  {
   "cell_type": "code",
   "execution_count": 13,
   "metadata": {},
   "outputs": [],
   "source": [
    "def backward_sigmoid(dy, x):\n",
    "    return dy * (forward_sigmoid(x) * (1 - forward_sigmoid(x)))"
   ]
  },
  {
   "cell_type": "code",
   "execution_count": 14,
   "metadata": {},
   "outputs": [
    {
     "data": {
      "text/plain": [
       "array([3.39971275, 3.92239271])"
      ]
     },
     "execution_count": 14,
     "metadata": {},
     "output_type": "execute_result"
    }
   ],
   "source": [
    "out1 = forward(x, w, b)\n",
    "out1"
   ]
  },
  {
   "cell_type": "code",
   "execution_count": 15,
   "metadata": {},
   "outputs": [
    {
     "data": {
      "text/plain": [
       "array([0.96769556, 0.98059051])"
      ]
     },
     "execution_count": 15,
     "metadata": {},
     "output_type": "execute_result"
    }
   ],
   "source": [
    "out2 = forward_sigmoid(out1)\n",
    "out2"
   ]
  },
  {
   "cell_type": "code",
   "execution_count": 16,
   "metadata": {},
   "outputs": [],
   "source": [
    "d_out1 = backward_sigmoid(dy=1, x=out1)"
   ]
  },
  {
   "cell_type": "code",
   "execution_count": 17,
   "metadata": {},
   "outputs": [],
   "source": [
    "dx, dw, db = backward(dy=d_out1, x=x, w=w, b=b)"
   ]
  },
  {
   "cell_type": "code",
   "execution_count": 18,
   "metadata": {},
   "outputs": [
    {
     "data": {
      "text/plain": [
       "array([0.96769556, 0.98059051])"
      ]
     },
     "execution_count": 18,
     "metadata": {},
     "output_type": "execute_result"
    }
   ],
   "source": [
    "out2"
   ]
  },
  {
   "cell_type": "code",
   "execution_count": 19,
   "metadata": {},
   "outputs": [],
   "source": [
    "target = np.array([0.5, 0.1])"
   ]
  },
  {
   "cell_type": "code",
   "execution_count": 20,
   "metadata": {},
   "outputs": [],
   "source": [
    "def step(x, w, b, y_target, lr=0.01):\n",
    "    y1 = forward(x, w, b)    \n",
    "    y2 = forward_sigmoid(y1)\n",
    "    \n",
    "    d = y_target - y2\n",
    "    \n",
    "    loss = np.mean(np.abs(d))\n",
    "    \n",
    "    dl_dd = 0.5*((d > 0) * 1.0 + (d < 0) * -1.0)\n",
    "    dd_dy2 = dl_dd * -1\n",
    "    \n",
    "    dy2_dy1 = backward_sigmoid(dy=dd_dy2, x=y1)\n",
    "    dy1_dx, dy1_dw, dy1_db = backward(dy=dy2_dy1, x=x, w=w, b=b)\n",
    "    \n",
    "    w = w - dy1_dw * lr\n",
    "    b = b - dy1_db * lr\n",
    "    return w, b, y2, loss"
   ]
  },
  {
   "cell_type": "code",
   "execution_count": 31,
   "metadata": {},
   "outputs": [
    {
     "name": "stdout",
     "output_type": "stream",
     "text": [
      "[0.00666445 0.04092832]\n",
      "[0.03413336 0.09937262]\n",
      "[0.50591453 0.09843542]\n",
      "[0.50459133 0.10158605]\n",
      "[0.50272011 0.10071157]\n",
      "[0.49999703 0.09992983]\n",
      "[0.49999943 0.09917497]\n",
      "[0.49999551 0.09854615]\n",
      "[0.49999686 0.10179995]\n",
      "[0.49999908 0.10119315]\n",
      "[0.50000002 0.10061596]\n",
      "[0.49999528 0.1001179 ]\n",
      "[0.49999619 0.09964169]\n",
      "[0.50000631 0.09927917]\n",
      "[0.50000636 0.09890045]\n",
      "[0.49999043 0.09863036]\n",
      "[0.49998859 0.0983431 ]\n",
      "[0.50000887 0.10186231]\n",
      "[0.5000104  0.10164487]\n",
      "[0.50001058 0.10149475]\n",
      "[0.49998873 0.10136658]\n"
     ]
    }
   ],
   "source": [
    "def train():\n",
    "    x = np.random.randn(10, )\n",
    "    w = np.random.normal(loc=1, scale=1, size=(x.shape[0], n_output)) #np.random.randn(x.shape[0], n_output)\n",
    "    b = np.zeros(n_output)\n",
    "    target = np.array([0.5, 0.1])\n",
    "    lr = 0.1\n",
    "    for i in range(10000+1):\n",
    "        \n",
    "        w, b, out, lss = step(x, w, b, target, lr=lr)\n",
    "        if i % 500 == 0:\n",
    "            print(out)\n",
    "        if i % 1000 == 0:\n",
    "            lr = lr - 0.001\n",
    "    \n",
    "train()"
   ]
  },
  {
   "cell_type": "code",
   "execution_count": null,
   "metadata": {},
   "outputs": [],
   "source": []
  },
  {
   "cell_type": "code",
   "execution_count": null,
   "metadata": {},
   "outputs": [],
   "source": []
  }
 ],
 "metadata": {
  "kernelspec": {
   "display_name": "Python 3",
   "language": "python",
   "name": "python3"
  },
  "language_info": {
   "codemirror_mode": {
    "name": "ipython",
    "version": 3
   },
   "file_extension": ".py",
   "mimetype": "text/x-python",
   "name": "python",
   "nbconvert_exporter": "python",
   "pygments_lexer": "ipython3",
   "version": "3.7.6"
  }
 },
 "nbformat": 4,
 "nbformat_minor": 4
}
